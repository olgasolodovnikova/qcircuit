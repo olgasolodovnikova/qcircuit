{
 "cells": [
  {
   "cell_type": "code",
   "execution_count": 66,
   "id": "d3ae89d2-5c8f-4c4d-bc7a-e93885624314",
   "metadata": {},
   "outputs": [],
   "source": [
    "import numpy as np\n",
    "import os\n",
    "import h5py\n"
   ]
  },
  {
   "cell_type": "markdown",
   "id": "d9554604-c7fc-4f5d-9109-6960a12cb47b",
   "metadata": {},
   "source": [
    "## Clean up Jens' data and save as .hdf5 file"
   ]
  },
  {
   "cell_type": "code",
   "execution_count": 67,
   "id": "12f99e2c-f531-4f87-af05-5727be671b6f",
   "metadata": {},
   "outputs": [],
   "source": [
    "jens_folder = 'test_data/jens'\n",
    "jens_files = os.listdir(jens_folder)\n",
    "xueshi_folder = 'test_data/xueshi'\n",
    "xueshi_files = os.listdir(xueshi_folder)"
   ]
  },
  {
   "cell_type": "code",
   "execution_count": 68,
   "id": "ae3126d0-0318-4a6f-8505-f510c97cd449",
   "metadata": {},
   "outputs": [],
   "source": [
    "sq_spec_files = [os.path.join(jens_folder,f) for f in sorted(jens_files) if 'SPEC' in f and '_S' in f]\n",
    "asq_spec_files = [os.path.join(jens_folder,f) for f in sorted(jens_files) if 'SPEC' in f and '_A' in f]\n",
    "elec_spec_file = os.path.join(jens_folder, 'SPEC_elec.csv')\n",
    "vac_spec_file = os.path.join(jens_folder, 'SPEC_vac.csv')\n",
    "\n",
    "sq_power_files = [os.path.join(jens_folder, f) for f in sorted(jens_files) if '5MHz' in f and '_S' in f]\n",
    "asq_power_files = [os.path.join(jens_folder, f) for f in sorted(jens_files) if '5MHz' in f and '_A' in f]\n",
    "elec_power_file = os.path.join(jens_folder, '5MHz_elec.csv')\n",
    "vac_power_file = os.path.join(jens_folder, '5MHz_vac.csv')"
   ]
  },
  {
   "cell_type": "code",
   "execution_count": 69,
   "id": "ffda16bd-34fc-4126-8971-6309f404481b",
   "metadata": {},
   "outputs": [],
   "source": [
    "#SPEC data\n",
    "electronic = np.genfromtxt(elec_spec_file, delimiter=',', skip_header=45)\n",
    "vacuum = np.genfromtxt(vac_spec_file, delimiter=',', skip_header=45)\n",
    "squeezing = np.array([np.genfromtxt(f, delimiter=',', skip_header=45) for f in sq_spec_files])\n",
    "antisqueezing = np.array([np.genfromtxt(f, delimiter=',', skip_header=45) for f in asq_spec_files])\n",
    "\n",
    "\n",
    "#frequencies (x-axis in each dataset above, as seen from the metadata). \n",
    "freq = electronic[:,0] \n",
    "electronic = electronic[:,1]\n",
    "vacuum = vacuum[:,1]\n",
    "squeezing = squeezing[:,:,1]\n",
    "antisqueezing = antisqueezing[:,:,1] \n",
    "\n",
    "meta_elec = np.genfromtxt(elec_spec_file, delimiter=',', skip_header=2, max_rows=42, dtype='S')\n",
    "#Format meta data\n",
    "meta_elec = {a[0]:a[1] for a in meta_elec}\n",
    "\n",
    "#meta_elec"
   ]
  },
  {
   "cell_type": "code",
   "execution_count": 70,
   "id": "9f013675-337e-4c8d-bc89-832a27ef0c18",
   "metadata": {},
   "outputs": [],
   "source": [
    "#5MHz data\n",
    "electronic_5 = np.genfromtxt(elec_power_file, delimiter=',', skip_header=45)\n",
    "vacuum_5 = np.genfromtxt(vac_power_file, delimiter=',', skip_header=45)\n",
    "squeezing_5 = np.array([np.genfromtxt(f, delimiter=',', skip_header=45) for f in sq_power_files])\n",
    "antisqueezing_5 = np.array([np.genfromtxt(f, delimiter=',', skip_header=45) for f in asq_power_files])\n",
    "\n",
    "t = electronic_5[:,0]\n",
    "power = np.array([float(f.split('_')[2]) for f in sq_power_files])\n",
    "electronic_5 = electronic_5[:,1]\n",
    "vacuum_5 = vacuum_5[:,1]\n",
    "squeezing_5 = squeezing_5[:,:,1]\n",
    "antisqueezing_5 = antisqueezing_5[:,:,1] \n",
    "\n",
    "\n",
    "#Extract powers \n",
    "\n",
    "meta_elec_5 = np.genfromtxt(elec_power_file, delimiter=',', skip_header=2, max_rows=42, dtype='S')\n",
    "#Format metadata\n",
    "meta_elec_5 = {a[0]:a[1] for a in meta_elec_5}\n"
   ]
  },
  {
   "cell_type": "code",
   "execution_count": 71,
   "id": "6ba7ea4c-ac7e-4be7-85b3-8908ef7c17c2",
   "metadata": {},
   "outputs": [],
   "source": [
    "with h5py.File('squeezing_data.hdf5', 'w') as file:\n",
    "    dset_spec = file.create_group('spectrum')\n",
    "    dset_freq = dset_spec.create_dataset('frequencies', data=freq)\n",
    "    dset_elec = dset_spec.create_dataset('electronic', data=electronic)\n",
    "    dset_vac = dset_spec.create_dataset('vacuum', data=vacuum)\n",
    "    dset_sqz = dset_spec.create_dataset('squeezing', data=squeezing)\n",
    "    dset_asqz = dset_spec.create_dataset('antisqueezing', data=antisqueezing)\n",
    "\n",
    "    dset_5 = file.create_group('5MHz')\n",
    "    dset_time = dset_5.create_dataset('times', data = t)\n",
    "    dset_power = dset_5.create_dataset('power', data=power)\n",
    "    dset_elec_5 = dset_5.create_dataset('electronic', data = electronic_5)\n",
    "    dset_vac_5 = dset_5.create_dataset('vacuum', data=vacuum_5)\n",
    "    dset_sqz_5 = dset_5.create_dataset('squeezing', data=squeezing_5)\n",
    "    dset_asqz_5 = dset_5.create_dataset('antisqueezing', data=antisqueezing_5)\n",
    "\n",
    "    #Add metadata\n",
    "    for key, val in meta_elec.items():\n",
    "        dset_spec.attrs[key] = val\n",
    "    for key, val in meta_elec_5.items():\n",
    "        dset_5.attrs[key] = val"
   ]
  },
  {
   "cell_type": "code",
   "execution_count": 72,
   "id": "d3a6bee3-58df-4a39-8f64-c3e2127ddb02",
   "metadata": {},
   "outputs": [
    {
     "data": {
      "text/plain": [
       "['5MHz', 'spectrum']"
      ]
     },
     "execution_count": 72,
     "metadata": {},
     "output_type": "execute_result"
    }
   ],
   "source": [
    "file = h5py.File('squeezing_data.hdf5', 'r')\n",
    "list(file.keys())"
   ]
  },
  {
   "cell_type": "code",
   "execution_count": 73,
   "id": "3646bd8f-56e6-4da3-94ac-c040e8c1db6e",
   "metadata": {},
   "outputs": [
    {
     "data": {
      "text/plain": [
       "[('antisqueezing',\n",
       "  <HDF5 dataset \"antisqueezing\": shape (10, 5000), type \"<f8\">),\n",
       " ('electronic', <HDF5 dataset \"electronic\": shape (5000,), type \"<f8\">),\n",
       " ('power', <HDF5 dataset \"power\": shape (10,), type \"<f8\">),\n",
       " ('squeezing', <HDF5 dataset \"squeezing\": shape (10, 5000), type \"<f8\">),\n",
       " ('times', <HDF5 dataset \"times\": shape (5000,), type \"<f8\">),\n",
       " ('vacuum', <HDF5 dataset \"vacuum\": shape (5000,), type \"<f8\">)]"
      ]
     },
     "execution_count": 73,
     "metadata": {},
     "output_type": "execute_result"
    }
   ],
   "source": [
    "list(file['5MHz'].items())"
   ]
  },
  {
   "cell_type": "code",
   "execution_count": 60,
   "id": "ff1eb2a7-c3aa-4e74-8e2d-1a33cfa4e23b",
   "metadata": {},
   "outputs": [
    {
     "data": {
      "text/plain": [
       "<HDF5 dataset \"vacuum\": shape (5000,), type \"<f8\">"
      ]
     },
     "execution_count": 60,
     "metadata": {},
     "output_type": "execute_result"
    }
   ],
   "source": [
    "file['5MHz']['vacuum']"
   ]
  },
  {
   "cell_type": "code",
   "execution_count": null,
   "id": "2441e098-0348-43f5-890e-5a4659eb6502",
   "metadata": {},
   "outputs": [],
   "source": []
  }
 ],
 "metadata": {
  "kernelspec": {
   "display_name": "sciqis",
   "language": "python",
   "name": "sciqis"
  },
  "language_info": {
   "codemirror_mode": {
    "name": "ipython",
    "version": 3
   },
   "file_extension": ".py",
   "mimetype": "text/x-python",
   "name": "python",
   "nbconvert_exporter": "python",
   "pygments_lexer": "ipython3",
   "version": "3.11.3"
  }
 },
 "nbformat": 4,
 "nbformat_minor": 5
}
